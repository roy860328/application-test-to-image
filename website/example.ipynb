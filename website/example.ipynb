{
 "cells": [
  {
   "attachments": {},
   "cell_type": "markdown",
   "metadata": {},
   "source": []
  },
  {
   "cell_type": "code",
   "execution_count": 2,
   "metadata": {},
   "outputs": [
    {
     "name": "stdout",
     "output_type": "stream",
     "text": [
      "Defaulting to user installation because normal site-packages is not writeable\n",
      "Collecting flask>=2.2.2\n",
      "  Downloading Flask-2.3.2-py3-none-any.whl (96 kB)\n",
      "\u001b[K     |████████████████████████████████| 96 kB 943 kB/s eta 0:00:01\n",
      "\u001b[?25hRequirement already satisfied: click>=8.1.3 in /Users/caizhengyu/Library/Python/3.9/lib/python/site-packages (from flask>=2.2.2->-r requirements.txt (line 1)) (8.1.3)\n",
      "Requirement already satisfied: Jinja2>=3.1.2 in /Users/caizhengyu/Library/Python/3.9/lib/python/site-packages (from flask>=2.2.2->-r requirements.txt (line 1)) (3.1.2)\n",
      "Requirement already satisfied: itsdangerous>=2.1.2 in /Users/caizhengyu/Library/Python/3.9/lib/python/site-packages (from flask>=2.2.2->-r requirements.txt (line 1)) (2.1.2)\n",
      "Requirement already satisfied: importlib-metadata>=3.6.0 in /Users/caizhengyu/Library/Python/3.9/lib/python/site-packages (from flask>=2.2.2->-r requirements.txt (line 1)) (6.3.0)\n",
      "Collecting blinker>=1.6.2\n",
      "  Downloading blinker-1.6.2-py3-none-any.whl (13 kB)\n",
      "Requirement already satisfied: Werkzeug>=2.3.3 in /Users/caizhengyu/Library/Python/3.9/lib/python/site-packages (from flask>=2.2.2->-r requirements.txt (line 1)) (2.3.4)\n",
      "Requirement already satisfied: zipp>=0.5 in /Users/caizhengyu/Library/Python/3.9/lib/python/site-packages (from importlib-metadata>=3.6.0->flask>=2.2.2->-r requirements.txt (line 1)) (3.15.0)\n",
      "Requirement already satisfied: MarkupSafe>=2.0 in /Users/caizhengyu/Library/Python/3.9/lib/python/site-packages (from Jinja2>=3.1.2->flask>=2.2.2->-r requirements.txt (line 1)) (2.1.2)\n",
      "Installing collected packages: blinker, flask\n",
      "  Attempting uninstall: flask\n",
      "    Found existing installation: Flask 2.1.0\n",
      "    Uninstalling Flask-2.1.0:\n",
      "      Successfully uninstalled Flask-2.1.0\n",
      "Successfully installed blinker-1.6.2 flask-2.3.2\n",
      "\u001b[33mWARNING: You are using pip version 21.2.4; however, version 23.1.2 is available.\n",
      "You should consider upgrading via the '/Library/Developer/CommandLineTools/usr/bin/python3 -m pip install --upgrade pip' command.\u001b[0m\n"
     ]
    }
   ],
   "source": [
    "!pip3 install -r requirements.txt"
   ]
  },
  {
   "cell_type": "code",
   "execution_count": null,
   "metadata": {},
   "outputs": [],
   "source": []
  }
 ],
 "metadata": {
  "kernelspec": {
   "display_name": "Python 3",
   "language": "python",
   "name": "python3"
  },
  "language_info": {
   "codemirror_mode": {
    "name": "ipython",
    "version": 3
   },
   "file_extension": ".py",
   "mimetype": "text/x-python",
   "name": "python",
   "nbconvert_exporter": "python",
   "pygments_lexer": "ipython3",
   "version": "3.9.6"
  }
 },
 "nbformat": 4,
 "nbformat_minor": 4
}
